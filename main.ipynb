{
 "cells": [
  {
   "cell_type": "markdown",
   "id": "44586fd5",
   "metadata": {},
   "source": [
    "# main"
   ]
  },
  {
   "cell_type": "code",
   "execution_count": null,
   "id": "16731d1b-3bf3-4ba0-acbe-e83321fcde59",
   "metadata": {},
   "outputs": [],
   "source": [
    "from __future__ import annotations\n",
    "\n",
    "import json\n",
    "import os\n",
    "\n",
    "from tqdm import tqdm\n",
    "\n",
    "import character_utility as charutil\n",
    "import config\n",
    "from ipywidgets_helper import render_images\n",
    "from kvg import Kvg\n",
    "from utility import pathstr, char2code"
   ]
  },
  {
   "cell_type": "code",
   "execution_count": null,
   "id": "82a87293-bd8d-46ff-a29d-da8954853b8a",
   "metadata": {},
   "outputs": [],
   "source": [
    "def test():\n",
    "    kvg = Kvg.parse(\"祭\", log=True)\n",
    "    print()\n",
    "    \n",
    "    print(json.dumps(kvg.to_dict(), ensure_ascii=False, indent=2))\n",
    "    print()\n",
    "    \n",
    "    images = kvg.draw(image_size=64, padding=4, stroke_width=2)\n",
    "    \n",
    "    return render_images([image for _, image in images])\n",
    "\n",
    "\n",
    "test()"
   ]
  },
  {
   "cell_type": "markdown",
   "id": "aba53494",
   "metadata": {},
   "source": [
    "## JSON"
   ]
  },
  {
   "cell_type": "code",
   "execution_count": null,
   "id": "f2f11db9-9387-452b-9d2f-09bccb9b1b8d",
   "metadata": {},
   "outputs": [],
   "source": [
    "def save_jsons(chars: list[str]) -> None:\n",
    "    pbar = tqdm(chars)\n",
    "    for char in pbar:\n",
    "        kvg = Kvg.parse(char)\n",
    "        pbar.set_postfix(kvgid=kvg.kvgid, name=kvg.name)\n",
    "        \n",
    "        assert kvg.kvgid == kvg.charcode\n",
    "        \n",
    "        directory_path = config.output_main_kvg_path(kvg.charcode)\n",
    "        os.makedirs(directory_path, exist_ok=True)\n",
    "        \n",
    "        with open(pathstr(directory_path, f\"{kvg.charcode}.json\"), \"w\") as f:\n",
    "            json.dump(kvg.to_dict(), f)\n",
    "\n",
    "\n",
    "# save_jsons(charutil.kanjis.all())"
   ]
  },
  {
   "cell_type": "markdown",
   "id": "741a3737",
   "metadata": {},
   "source": [
    "## PNG"
   ]
  },
  {
   "cell_type": "code",
   "execution_count": null,
   "id": "51ac889f-cc0c-48ea-bb00-01af4cde74ae",
   "metadata": {},
   "outputs": [],
   "source": [
    "def save_pngs(chars: list[str], image_size: int, padding: int, stroke_width: int) -> None:\n",
    "    pbar = tqdm(chars)\n",
    "    for char in pbar:\n",
    "        charcode = char2code(char)\n",
    "        directory_path = config.output_main_kvg_path(charcode)\n",
    "        with open(pathstr(directory_path, f\"{charcode}.json\")) as f:\n",
    "            kvg = Kvg.from_dict(json.load(f))\n",
    "        pbar.set_postfix(kvgid=kvg.kvgid, name=kvg.name)\n",
    "        \n",
    "        images = kvg.draw(image_size=image_size, padding=padding, stroke_width=stroke_width)\n",
    "        for kvg, image in images:\n",
    "            directory_path = config.output_main_kvg_path(kvg.charcode)\n",
    "            os.makedirs(directory_path, exist_ok=True)\n",
    "            \n",
    "            image_path = pathstr(\n",
    "                directory_path,\n",
    "                f\"{image_size}x,pad={padding},sw={stroke_width} {kvg.kvgid}.png\",\n",
    "            )\n",
    "            image.save(image_path)\n",
    "\n",
    "\n",
    "# save_pngs(charutil.kanjis.all(), image_size=64, padding=4, stroke_width=2)\n",
    "# save_pngs(charutil.kanjis.all(), image_size=16, padding=0, stroke_width=2)"
   ]
  },
  {
   "cell_type": "code",
   "execution_count": null,
   "id": "8e031e39",
   "metadata": {},
   "outputs": [],
   "source": [
    "# !find ./output -type f -name \"*.png\" | wc -l"
   ]
  },
  {
   "cell_type": "code",
   "execution_count": null,
   "id": "9ab5105f",
   "metadata": {},
   "outputs": [],
   "source": []
  }
 ],
 "metadata": {
  "kernelspec": {
   "display_name": "Python 3.9",
   "language": "python",
   "name": "python3.9"
  },
  "language_info": {
   "codemirror_mode": {
    "name": "ipython",
    "version": 3
   },
   "file_extension": ".py",
   "mimetype": "text/x-python",
   "name": "python",
   "nbconvert_exporter": "python",
   "pygments_lexer": "ipython3",
   "version": "3.9.7"
  }
 },
 "nbformat": 4,
 "nbformat_minor": 5
}
